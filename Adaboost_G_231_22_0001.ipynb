{
  "nbformat": 4,
  "nbformat_minor": 0,
  "metadata": {
    "colab": {
      "provenance": [],
      "authorship_tag": "ABX9TyMMikLMpnFybiO3ZgD1jbdW",
      "include_colab_link": true
    },
    "kernelspec": {
      "name": "python3",
      "display_name": "Python 3"
    },
    "language_info": {
      "name": "python"
    }
  },
  "cells": [
    {
      "cell_type": "markdown",
      "metadata": {
        "id": "view-in-github",
        "colab_type": "text"
      },
      "source": [
        "<a href=\"https://colab.research.google.com/github/Yogi231100/Data_Mining-Prak-1/blob/main/Adaboost_G_231_22_0001.ipynb\" target=\"_parent\"><img src=\"https://colab.research.google.com/assets/colab-badge.svg\" alt=\"Open In Colab\"/></a>"
      ]
    },
    {
      "cell_type": "markdown",
      "source": [
        "# MENGIMPOR PERPUSTAKAAN YANG DIPERLUKAN"
      ],
      "metadata": {
        "id": "YvBPuRmEKDPK"
      }
    },
    {
      "cell_type": "code",
      "execution_count": 1,
      "metadata": {
        "id": "VewZqMcyJMDW"
      },
      "outputs": [],
      "source": [
        "#load libraries\n",
        "from sklearn.ensemble import AdaBoostClassifier\n",
        "from sklearn import datasets\n",
        "#Import train_test_split function\n",
        "from sklearn.model_selection import train_test_split\n",
        "#import scikit-learn metrics modul for accuracy calculation\n",
        "from sklearn import metrics"
      ]
    },
    {
      "cell_type": "code",
      "source": [
        "#load data\n",
        "iris = datasets.load_iris()\n",
        "x = iris.data\n",
        "y = iris.target"
      ],
      "metadata": {
        "id": "wREaj8IvRN4x"
      },
      "execution_count": 2,
      "outputs": []
    },
    {
      "cell_type": "code",
      "source": [
        "#split dataset into training set  and test set\n",
        "x_train,x_test, y_train, y_test = train_test_split(x, y, test_size=0.3) # 70% training and 30% test\n"
      ],
      "metadata": {
        "id": "SvJfGsy3RbMP"
      },
      "execution_count": 3,
      "outputs": []
    },
    {
      "cell_type": "code",
      "source": [
        "#create adaboost classifer object\n",
        "abc = AdaBoostClassifier(n_estimators=50,learning_rate=1)\n",
        "#train adaboost classifier\n",
        "model = abc.fit(x_train, y_train)\n",
        "#predict the response for test dataset\n",
        "y_pred = model.predict(x_test)"
      ],
      "metadata": {
        "id": "l1iK60A0R2Fn"
      },
      "execution_count": 4,
      "outputs": []
    },
    {
      "cell_type": "code",
      "source": [
        "#model accuracy, how often is the classifier correct?\n",
        "print(\"Accuracy:\",metrics.accuracy_score(y_test, y_pred))"
      ],
      "metadata": {
        "id": "WVkWziP1SqWT",
        "colab": {
          "base_uri": "https://localhost:8080/"
        },
        "outputId": "6fd71445-11c1-44a5-e5df-db1844d82b8f"
      },
      "execution_count": 5,
      "outputs": [
        {
          "output_type": "stream",
          "name": "stdout",
          "text": [
            "Accuracy: 0.9777777777777777\n"
          ]
        }
      ]
    },
    {
      "cell_type": "code",
      "source": [
        "!git clone https://github.com/eriklindernoren/ML-From-Scratch"
      ],
      "metadata": {
        "id": "8jWcMxCzTHgj",
        "colab": {
          "base_uri": "https://localhost:8080/"
        },
        "outputId": "e47b6ec4-3d4d-4c4d-eeef-890dc16139b7"
      },
      "execution_count": 6,
      "outputs": [
        {
          "output_type": "stream",
          "name": "stdout",
          "text": [
            "Cloning into 'ML-From-Scratch'...\n",
            "remote: Enumerating objects: 2558, done.\u001b[K\n",
            "remote: Total 2558 (delta 0), reused 0 (delta 0), pack-reused 2558\u001b[K\n",
            "Receiving objects: 100% (2558/2558), 553.45 KiB | 1.89 MiB/s, done.\n",
            "Resolving deltas: 100% (1960/1960), done.\n"
          ]
        }
      ]
    },
    {
      "cell_type": "code",
      "source": [
        "import sys\n",
        "sys.path.append('/content/ML-From-Scratch')"
      ],
      "metadata": {
        "id": "HDPEkGuXU5Jc"
      },
      "execution_count": 7,
      "outputs": []
    },
    {
      "cell_type": "code",
      "source": [
        "import sys\n",
        "sys.path.append('//content/ML-From-Scratch/mlfromscratch')\n"
      ],
      "metadata": {
        "id": "FqBCBDEvcvZP"
      },
      "execution_count": 8,
      "outputs": []
    },
    {
      "cell_type": "code",
      "source": [
        "from __future__ import division, print_function\n",
        "import numpy as np\n",
        "import math\n",
        "from sklearn import datasets\n",
        "import matplotlib.pyplot as plt\n",
        "import pandas as pd\n",
        "# Mengimpor fungsi helper dari modul kustom\n",
        "from m1fromscratch.utils import train_test_split, accuracy_score, plot\n",
        "\n",
        "# Decision stump digunakan sebagai weak classifier dalam implementasi Adaboost ini\n",
        "class DecisionStump():\n",
        "    def __init__(self):\n",
        "        # Menentukan apakah sampel akan diklasifikasikan sebagai -1 atau 1 berdasarkan threshold\n",
        "        self.polarity = 1\n",
        "        # Indeks fitur yang digunakan untuk membuat klasifikasi\n",
        "        self.feature_index = None\n",
        "        # Nilai threshold yang harus diukur oleh fitur\n",
        "        self.threshold = None\n",
        "        # Nilai yang menunjukkan akurasi classifier\n",
        "        self.alpha = None\n",
        "\n",
        "class Adaboost():\n",
        "    \"\"\"Boosting method yang menggunakan sejumlah weak classifier dalam ensemble untuk membuat classifier yang kuat.\n",
        "    Implementasi ini menggunakan decision stumps, yang merupakan decision tree satu tingkat.\n",
        "\n",
        "    Parameter:\n",
        "    -----------\n",
        "    n_clf: int\n",
        "        Jumlah weak classifier yang akan digunakan.\n",
        "    \"\"\"\n",
        "    import numpy as np\n",
        "\n",
        "class MyClassifier:\n",
        "    def __init__(self, n_clf=5):\n",
        "        self.n_clf = n_clf\n",
        "\n",
        "    def fit(self, x, y):\n",
        "        n_samples, n_features = np.shape(x)\n",
        "        # Tambahkan kode untuk melatih model di sini\n",
        "        print(f\"Jumlah sampel: {n_samples}, Jumlah fitur: {n_features}\")"
      ],
      "metadata": {
        "id": "gcfbAoO0ewH5",
        "colab": {
          "base_uri": "https://localhost:8080/",
          "height": 383
        },
        "outputId": "b370e9f3-dd0f-407c-a147-c5ff5bf973d9"
      },
      "execution_count": 11,
      "outputs": [
        {
          "output_type": "error",
          "ename": "ModuleNotFoundError",
          "evalue": "No module named 'm1fromscratch'",
          "traceback": [
            "\u001b[0;31m---------------------------------------------------------------------------\u001b[0m",
            "\u001b[0;31mModuleNotFoundError\u001b[0m                       Traceback (most recent call last)",
            "\u001b[0;32m<ipython-input-11-0447f74ac787>\u001b[0m in \u001b[0;36m<cell line: 8>\u001b[0;34m()\u001b[0m\n\u001b[1;32m      6\u001b[0m \u001b[0;32mimport\u001b[0m \u001b[0mpandas\u001b[0m \u001b[0;32mas\u001b[0m \u001b[0mpd\u001b[0m\u001b[0;34m\u001b[0m\u001b[0;34m\u001b[0m\u001b[0m\n\u001b[1;32m      7\u001b[0m \u001b[0;31m# Mengimpor fungsi helper dari modul kustom\u001b[0m\u001b[0;34m\u001b[0m\u001b[0;34m\u001b[0m\u001b[0m\n\u001b[0;32m----> 8\u001b[0;31m \u001b[0;32mfrom\u001b[0m \u001b[0mm1fromscratch\u001b[0m\u001b[0;34m.\u001b[0m\u001b[0mutils\u001b[0m \u001b[0;32mimport\u001b[0m \u001b[0mtrain_test_split\u001b[0m\u001b[0;34m,\u001b[0m \u001b[0maccuracy_score\u001b[0m\u001b[0;34m,\u001b[0m \u001b[0mplot\u001b[0m\u001b[0;34m\u001b[0m\u001b[0;34m\u001b[0m\u001b[0m\n\u001b[0m\u001b[1;32m      9\u001b[0m \u001b[0;34m\u001b[0m\u001b[0m\n\u001b[1;32m     10\u001b[0m \u001b[0;31m# Decision stump digunakan sebagai weak classifier dalam implementasi Adaboost ini\u001b[0m\u001b[0;34m\u001b[0m\u001b[0;34m\u001b[0m\u001b[0m\n",
            "\u001b[0;31mModuleNotFoundError\u001b[0m: No module named 'm1fromscratch'",
            "",
            "\u001b[0;31m---------------------------------------------------------------------------\u001b[0;32m\nNOTE: If your import is failing due to a missing package, you can\nmanually install dependencies using either !pip or !apt.\n\nTo view examples of installing some common dependencies, click the\n\"Open Examples\" button below.\n\u001b[0;31m---------------------------------------------------------------------------\u001b[0m\n"
          ],
          "errorDetails": {
            "actions": [
              {
                "action": "open_url",
                "actionText": "Open Examples",
                "url": "/notebooks/snippets/importing_libraries.ipynb"
              }
            ]
          }
        }
      ]
    }
  ]
}